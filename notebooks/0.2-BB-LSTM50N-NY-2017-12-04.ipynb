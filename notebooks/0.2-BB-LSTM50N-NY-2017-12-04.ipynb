{
 "cells": [
  {
   "cell_type": "code",
   "execution_count": 121,
   "metadata": {},
   "outputs": [
    {
     "name": "stdout",
     "output_type": "stream",
     "text": [
      "The autoreload extension is already loaded. To reload it, use:\n",
      "  %reload_ext autoreload\n"
     ]
    }
   ],
   "source": [
    "%load_ext autoreload\n",
    "%matplotlib inline"
   ]
  },
  {
   "cell_type": "code",
   "execution_count": 122,
   "metadata": {},
   "outputs": [],
   "source": [
    "from math import sqrt\n",
    "from numpy import concatenate\n",
    "from matplotlib import pyplot\n",
    "from pandas import read_csv\n",
    "from pandas import DataFrame\n",
    "from pandas import concat\n",
    "from sklearn.preprocessing import MinMaxScaler\n",
    "from sklearn.preprocessing import LabelEncoder\n",
    "from sklearn.metrics import mean_squared_error\n",
    "from keras.models import Sequential\n",
    "from keras.layers import Dense\n",
    "from keras.layers import LSTM\n",
    "import matplotlib.pyplot as plt"
   ]
  },
  {
   "cell_type": "code",
   "execution_count": 123,
   "metadata": {},
   "outputs": [],
   "source": [
    "import numpy as np\n",
    "from numpy import concatenate"
   ]
  },
  {
   "cell_type": "code",
   "execution_count": 124,
   "metadata": {},
   "outputs": [],
   "source": [
    "# convert series to supervised learning\n",
    "def series_to_supervised(data, n_in=1, n_out=1, dropnan=True):\n",
    "    n_vars = 1 if type(data) is list else data.shape[1]\n",
    "    df = DataFrame(data)\n",
    "    cols, names = list(), list()\n",
    "    # input sequence (t-n, ... t-1)\n",
    "    for i in range(n_in, 0, -1):\n",
    "        cols.append(df.shift(i))\n",
    "        names += [('var%d(t-%d)' % (j+1, i)) for j in range(n_vars)]\n",
    "    # forecast sequence (t, t+1, ... t+n)\n",
    "    for i in range(0, n_out):\n",
    "        cols.append(df.shift(-i))\n",
    "        if i == 0:\n",
    "            names += [('var%d(t)' % (j+1)) for j in range(n_vars)]\n",
    "        else:\n",
    "            names += [('var%d(t+%d)' % (j+1, i)) for j in range(n_vars)]\n",
    "    # put it all together\n",
    "    agg = concat(cols, axis=1)\n",
    "    agg.columns = names\n",
    "    # drop rows with NaN values\n",
    "    if dropnan:\n",
    "        agg.dropna(inplace=True)\n",
    "    return agg\n",
    " "
   ]
  },
  {
   "cell_type": "code",
   "execution_count": 125,
   "metadata": {},
   "outputs": [],
   "source": [
    "%store -r ili_GLL"
   ]
  },
  {
   "cell_type": "code",
   "execution_count": 126,
   "metadata": {},
   "outputs": [
    {
     "name": "stdout",
     "output_type": "stream",
     "text": [
      "The data contains 8 features\n"
     ]
    },
    {
     "data": {
      "text/html": [
       "<div>\n",
       "<style>\n",
       "    .dataframe thead tr:only-child th {\n",
       "        text-align: right;\n",
       "    }\n",
       "\n",
       "    .dataframe thead th {\n",
       "        text-align: left;\n",
       "    }\n",
       "\n",
       "    .dataframe tbody tr th {\n",
       "        vertical-align: top;\n",
       "    }\n",
       "</style>\n",
       "<table border=\"1\" class=\"dataframe\">\n",
       "  <thead>\n",
       "    <tr style=\"text-align: right;\">\n",
       "      <th></th>\n",
       "      <th>date</th>\n",
       "      <th>year</th>\n",
       "      <th>month</th>\n",
       "      <th>week</th>\n",
       "      <th>state</th>\n",
       "      <th>latitude</th>\n",
       "      <th>longitude</th>\n",
       "      <th>ili_activity_group</th>\n",
       "    </tr>\n",
       "  </thead>\n",
       "  <tbody>\n",
       "    <tr>\n",
       "      <th>0</th>\n",
       "      <td>2010-10-09</td>\n",
       "      <td>2010</td>\n",
       "      <td>10</td>\n",
       "      <td>40</td>\n",
       "      <td>AK</td>\n",
       "      <td>61.370716</td>\n",
       "      <td>-152.404419</td>\n",
       "      <td>Minimal</td>\n",
       "    </tr>\n",
       "    <tr>\n",
       "      <th>1</th>\n",
       "      <td>2010-10-16</td>\n",
       "      <td>2010</td>\n",
       "      <td>10</td>\n",
       "      <td>41</td>\n",
       "      <td>AK</td>\n",
       "      <td>61.370716</td>\n",
       "      <td>-152.404419</td>\n",
       "      <td>Minimal</td>\n",
       "    </tr>\n",
       "    <tr>\n",
       "      <th>2</th>\n",
       "      <td>2010-10-23</td>\n",
       "      <td>2010</td>\n",
       "      <td>10</td>\n",
       "      <td>42</td>\n",
       "      <td>AK</td>\n",
       "      <td>61.370716</td>\n",
       "      <td>-152.404419</td>\n",
       "      <td>Minimal</td>\n",
       "    </tr>\n",
       "    <tr>\n",
       "      <th>3</th>\n",
       "      <td>2010-10-30</td>\n",
       "      <td>2010</td>\n",
       "      <td>10</td>\n",
       "      <td>43</td>\n",
       "      <td>AK</td>\n",
       "      <td>61.370716</td>\n",
       "      <td>-152.404419</td>\n",
       "      <td>Minimal</td>\n",
       "    </tr>\n",
       "    <tr>\n",
       "      <th>4</th>\n",
       "      <td>2010-11-06</td>\n",
       "      <td>2010</td>\n",
       "      <td>10</td>\n",
       "      <td>44</td>\n",
       "      <td>AK</td>\n",
       "      <td>61.370716</td>\n",
       "      <td>-152.404419</td>\n",
       "      <td>Minimal</td>\n",
       "    </tr>\n",
       "  </tbody>\n",
       "</table>\n",
       "</div>"
      ],
      "text/plain": [
       "        date  year  month  week state   latitude   longitude  \\\n",
       "0 2010-10-09  2010     10    40    AK  61.370716 -152.404419   \n",
       "1 2010-10-16  2010     10    41    AK  61.370716 -152.404419   \n",
       "2 2010-10-23  2010     10    42    AK  61.370716 -152.404419   \n",
       "3 2010-10-30  2010     10    43    AK  61.370716 -152.404419   \n",
       "4 2010-11-06  2010     10    44    AK  61.370716 -152.404419   \n",
       "\n",
       "  ili_activity_group  \n",
       "0            Minimal  \n",
       "1            Minimal  \n",
       "2            Minimal  \n",
       "3            Minimal  \n",
       "4            Minimal  "
      ]
     },
     "execution_count": 126,
     "metadata": {},
     "output_type": "execute_result"
    }
   ],
   "source": [
    "l = len(ili_GLL.columns)\n",
    "print(\"The data contains {} features\".format(l))\n",
    "ili_GLL.head()"
   ]
  },
  {
   "cell_type": "code",
   "execution_count": 127,
   "metadata": {},
   "outputs": [],
   "source": [
    "#we put everything together\n",
    "#sepate by states\n",
    "datasets = {}\n",
    "states_label = ili_GLL.state.unique()"
   ]
  },
  {
   "cell_type": "code",
   "execution_count": 128,
   "metadata": {},
   "outputs": [
    {
     "name": "stderr",
     "output_type": "stream",
     "text": [
      "/Users/bbuildman/anaconda3/envs/python2/lib/python2.7/site-packages/ipykernel_launcher.py:3: SettingWithCopyWarning: \n",
      "A value is trying to be set on a copy of a slice from a DataFrame\n",
      "\n",
      "See the caveats in the documentation: http://pandas.pydata.org/pandas-docs/stable/indexing.html#indexing-view-versus-copy\n",
      "  This is separate from the ipykernel package so we can avoid doing imports until\n",
      "/Users/bbuildman/anaconda3/envs/python2/lib/python2.7/site-packages/ipykernel_launcher.py:4: SettingWithCopyWarning: \n",
      "A value is trying to be set on a copy of a slice from a DataFrame\n",
      "\n",
      "See the caveats in the documentation: http://pandas.pydata.org/pandas-docs/stable/indexing.html#indexing-view-versus-copy\n",
      "  after removing the cwd from sys.path.\n"
     ]
    }
   ],
   "source": [
    "for s in states_label:\n",
    "    datasets[s] = ili_GLL[(ili_GLL.state == s)]\n",
    "    datasets[s].drop(['date'], 1, inplace=True)\n",
    "    datasets[s].drop(['state'], 1, inplace=True)"
   ]
  },
  {
   "cell_type": "code",
   "execution_count": 129,
   "metadata": {},
   "outputs": [
    {
     "name": "stdout",
     "output_type": "stream",
     "text": [
      "Number of location : 46\n"
     ]
    }
   ],
   "source": [
    "nstates = len(datasets)\n",
    "print(\"Number of location : {}\".format(nstates))"
   ]
  },
  {
   "cell_type": "code",
   "execution_count": 130,
   "metadata": {},
   "outputs": [
    {
     "name": "stdout",
     "output_type": "stream",
     "text": [
      "['WA', 'DE', 'WI', 'WV', 'HI', 'WY', 'NH', 'NM', 'TX', 'NC', 'ND', 'NE', 'TN', 'NY', 'PA', 'CA', 'NV', 'VA', 'CO', 'AK', 'AR', 'VT', 'IL', 'GA', 'IN', 'IA', 'OK', 'AZ', 'ID', 'CT', 'ME', 'MD', 'MA', 'OH', 'UT', 'MO', 'MN', 'MI', 'KS', 'MT', 'MS', 'SC', 'KY', 'OR', 'SD']\n"
     ]
    }
   ],
   "source": [
    "datasets.pop('AL', None)\n",
    "print(datasets.keys())"
   ]
  },
  {
   "cell_type": "code",
   "execution_count": 131,
   "metadata": {},
   "outputs": [
    {
     "data": {
      "text/html": [
       "<div>\n",
       "<style>\n",
       "    .dataframe thead tr:only-child th {\n",
       "        text-align: right;\n",
       "    }\n",
       "\n",
       "    .dataframe thead th {\n",
       "        text-align: left;\n",
       "    }\n",
       "\n",
       "    .dataframe tbody tr th {\n",
       "        vertical-align: top;\n",
       "    }\n",
       "</style>\n",
       "<table border=\"1\" class=\"dataframe\">\n",
       "  <thead>\n",
       "    <tr style=\"text-align: right;\">\n",
       "      <th></th>\n",
       "      <th>year</th>\n",
       "      <th>month</th>\n",
       "      <th>week</th>\n",
       "      <th>latitude</th>\n",
       "      <th>longitude</th>\n",
       "      <th>ili_activity_group</th>\n",
       "    </tr>\n",
       "  </thead>\n",
       "  <tbody>\n",
       "    <tr>\n",
       "      <th>6254</th>\n",
       "      <td>2010</td>\n",
       "      <td>10</td>\n",
       "      <td>41</td>\n",
       "      <td>35.630066</td>\n",
       "      <td>-79.806419</td>\n",
       "      <td>Minimal</td>\n",
       "    </tr>\n",
       "    <tr>\n",
       "      <th>6255</th>\n",
       "      <td>2010</td>\n",
       "      <td>10</td>\n",
       "      <td>42</td>\n",
       "      <td>35.630066</td>\n",
       "      <td>-79.806419</td>\n",
       "      <td>Minimal</td>\n",
       "    </tr>\n",
       "    <tr>\n",
       "      <th>6256</th>\n",
       "      <td>2010</td>\n",
       "      <td>10</td>\n",
       "      <td>43</td>\n",
       "      <td>35.630066</td>\n",
       "      <td>-79.806419</td>\n",
       "      <td>Minimal</td>\n",
       "    </tr>\n",
       "    <tr>\n",
       "      <th>6257</th>\n",
       "      <td>2010</td>\n",
       "      <td>10</td>\n",
       "      <td>44</td>\n",
       "      <td>35.630066</td>\n",
       "      <td>-79.806419</td>\n",
       "      <td>Minimal</td>\n",
       "    </tr>\n",
       "    <tr>\n",
       "      <th>6258</th>\n",
       "      <td>2010</td>\n",
       "      <td>11</td>\n",
       "      <td>44</td>\n",
       "      <td>35.630066</td>\n",
       "      <td>-79.806419</td>\n",
       "      <td>Minimal</td>\n",
       "    </tr>\n",
       "  </tbody>\n",
       "</table>\n",
       "</div>"
      ],
      "text/plain": [
       "      year  month  week   latitude  longitude ili_activity_group\n",
       "6254  2010     10    41  35.630066 -79.806419            Minimal\n",
       "6255  2010     10    42  35.630066 -79.806419            Minimal\n",
       "6256  2010     10    43  35.630066 -79.806419            Minimal\n",
       "6257  2010     10    44  35.630066 -79.806419            Minimal\n",
       "6258  2010     11    44  35.630066 -79.806419            Minimal"
      ]
     },
     "execution_count": 131,
     "metadata": {},
     "output_type": "execute_result"
    }
   ],
   "source": [
    "# load dataset\n",
    "dataset = datasets['NC']\n",
    "dataset.head()"
   ]
  },
  {
   "cell_type": "code",
   "execution_count": 132,
   "metadata": {},
   "outputs": [],
   "source": [
    "values = dataset.values"
   ]
  },
  {
   "cell_type": "code",
   "execution_count": 133,
   "metadata": {},
   "outputs": [],
   "source": [
    "# integer encode direction\n",
    "encoder = LabelEncoder()\n",
    "values[:,5] = encoder.fit_transform(values[:,5])\n",
    "# ensure all data is float\n",
    "values = values.astype('float32')"
   ]
  },
  {
   "cell_type": "code",
   "execution_count": 134,
   "metadata": {},
   "outputs": [
    {
     "name": "stdout",
     "output_type": "stream",
     "text": [
      "   var1(t-1)  var2(t-1)  var3(t-1)  var4(t-1)  var5(t-1)  var6(t-1)   var6(t)\n",
      "1        0.0   0.818182   0.769231        0.0        0.0   0.666667  0.666667\n",
      "2        0.0   0.818182   0.788462        0.0        0.0   0.666667  0.666667\n",
      "3        0.0   0.818182   0.807692        0.0        0.0   0.666667  0.666667\n",
      "4        0.0   0.818182   0.826923        0.0        0.0   0.666667  0.666667\n",
      "5        0.0   0.909091   0.826923        0.0        0.0   0.666667  0.666667\n"
     ]
    }
   ],
   "source": [
    "# normalize features\n",
    "scaler = MinMaxScaler(feature_range=(0, 1))\n",
    "scaled = scaler.fit_transform(values)\n",
    "# frame as supervised learning\n",
    "reframed = series_to_supervised(scaled, 1, 1)\n",
    "# drop columns we don't want to predict\n",
    "reframed.drop(reframed.columns[[6,7,8,9,10]], axis=1, inplace=True)\n",
    "print(reframed.head())"
   ]
  },
  {
   "cell_type": "code",
   "execution_count": 135,
   "metadata": {},
   "outputs": [
    {
     "name": "stdout",
     "output_type": "stream",
     "text": [
      "((156, 1, 6), (156,), (40, 1, 6), (40,))\n"
     ]
    }
   ],
   "source": [
    "# split into train and test sets\n",
    "values = reframed.values\n",
    "n_train_weeks = 52 * 3\n",
    "train = values[:n_train_weeks, :]\n",
    "test = values[n_train_weeks:, :]\n",
    "# split into input and outputs\n",
    "train_X, train_y = train[:, :-1], train[:, -1]\n",
    "test_X, test_y = test[:, :-1], test[:, -1]\n",
    "# reshape input to be 3D [samples, timesteps, features]\n",
    "train_X = train_X.reshape((train_X.shape[0], 1, train_X.shape[1]))\n",
    "test_X = test_X.reshape((test_X.shape[0], 1, test_X.shape[1]))\n",
    "print(train_X.shape, train_y.shape, test_X.shape, test_y.shape)"
   ]
  },
  {
   "cell_type": "code",
   "execution_count": 136,
   "metadata": {},
   "outputs": [],
   "source": [
    "# design network\n",
    "model = Sequential()\n",
    "model.add(LSTM(50, input_shape=(train_X.shape[1], train_X.shape[2])))\n",
    "model.add(Dense(1))\n",
    "model.compile(optimizer='adam', loss='mse', metrics=['accuracy'])"
   ]
  },
  {
   "cell_type": "code",
   "execution_count": 137,
   "metadata": {},
   "outputs": [
    {
     "name": "stdout",
     "output_type": "stream",
     "text": [
      "Train on 156 samples, validate on 40 samples\n",
      "Epoch 1/50\n",
      " - 2s - loss: 0.4205 - acc: 0.0962 - val_loss: 0.4400 - val_acc: 0.1250\n",
      "Epoch 2/50\n",
      " - 0s - loss: 0.3908 - acc: 0.0962 - val_loss: 0.4084 - val_acc: 0.1250\n",
      "Epoch 3/50\n",
      " - 0s - loss: 0.3617 - acc: 0.0962 - val_loss: 0.3776 - val_acc: 0.1250\n",
      "Epoch 4/50\n",
      " - 0s - loss: 0.3335 - acc: 0.0962 - val_loss: 0.3482 - val_acc: 0.1250\n",
      "Epoch 5/50\n",
      " - 0s - loss: 0.3067 - acc: 0.0962 - val_loss: 0.3202 - val_acc: 0.1250\n",
      "Epoch 6/50\n",
      " - 0s - loss: 0.2811 - acc: 0.0962 - val_loss: 0.2936 - val_acc: 0.1250\n",
      "Epoch 7/50\n",
      " - 0s - loss: 0.2569 - acc: 0.0962 - val_loss: 0.2684 - val_acc: 0.1250\n",
      "Epoch 8/50\n",
      " - 0s - loss: 0.2340 - acc: 0.0962 - val_loss: 0.2448 - val_acc: 0.1250\n",
      "Epoch 9/50\n",
      " - 0s - loss: 0.2126 - acc: 0.0962 - val_loss: 0.2227 - val_acc: 0.1250\n",
      "Epoch 10/50\n",
      " - 0s - loss: 0.1926 - acc: 0.0962 - val_loss: 0.2021 - val_acc: 0.1250\n",
      "Epoch 11/50\n",
      " - 0s - loss: 0.1740 - acc: 0.0962 - val_loss: 0.1832 - val_acc: 0.1250\n",
      "Epoch 12/50\n",
      " - 0s - loss: 0.1569 - acc: 0.0962 - val_loss: 0.1660 - val_acc: 0.1250\n",
      "Epoch 13/50\n",
      " - 0s - loss: 0.1414 - acc: 0.0962 - val_loss: 0.1505 - val_acc: 0.1250\n",
      "Epoch 14/50\n",
      " - 0s - loss: 0.1275 - acc: 0.0897 - val_loss: 0.1366 - val_acc: 0.1250\n",
      "Epoch 15/50\n",
      " - 0s - loss: 0.1151 - acc: 0.0962 - val_loss: 0.1244 - val_acc: 0.1250\n",
      "Epoch 16/50\n",
      " - 0s - loss: 0.1041 - acc: 0.0897 - val_loss: 0.1138 - val_acc: 0.1250\n",
      "Epoch 17/50\n",
      " - 0s - loss: 0.0947 - acc: 0.0897 - val_loss: 0.1048 - val_acc: 0.1250\n",
      "Epoch 18/50\n",
      " - 0s - loss: 0.0866 - acc: 0.0897 - val_loss: 0.0973 - val_acc: 0.0500\n",
      "Epoch 19/50\n",
      " - 0s - loss: 0.0800 - acc: 0.0833 - val_loss: 0.0911 - val_acc: 0.0500\n",
      "Epoch 20/50\n",
      " - 0s - loss: 0.0745 - acc: 0.0769 - val_loss: 0.0862 - val_acc: 0.0500\n",
      "Epoch 21/50\n",
      " - 0s - loss: 0.0701 - acc: 0.0769 - val_loss: 0.0824 - val_acc: 0.1000\n",
      "Epoch 22/50\n",
      " - 0s - loss: 0.0666 - acc: 0.0513 - val_loss: 0.0794 - val_acc: 0.1500\n",
      "Epoch 23/50\n",
      " - 0s - loss: 0.0639 - acc: 0.0513 - val_loss: 0.0772 - val_acc: 0.1500\n",
      "Epoch 24/50\n",
      " - 0s - loss: 0.0618 - acc: 0.0513 - val_loss: 0.0754 - val_acc: 0.1500\n",
      "Epoch 25/50\n",
      " - 0s - loss: 0.0602 - acc: 0.0641 - val_loss: 0.0741 - val_acc: 0.1500\n",
      "Epoch 26/50\n",
      " - 0s - loss: 0.0590 - acc: 0.0705 - val_loss: 0.0730 - val_acc: 0.1500\n",
      "Epoch 27/50\n",
      " - 0s - loss: 0.0579 - acc: 0.0705 - val_loss: 0.0721 - val_acc: 0.1500\n",
      "Epoch 28/50\n",
      " - 0s - loss: 0.0571 - acc: 0.0705 - val_loss: 0.0714 - val_acc: 0.1500\n",
      "Epoch 29/50\n",
      " - 0s - loss: 0.0564 - acc: 0.0705 - val_loss: 0.0707 - val_acc: 0.1500\n",
      "Epoch 30/50\n",
      " - 0s - loss: 0.0558 - acc: 0.0705 - val_loss: 0.0701 - val_acc: 0.1500\n",
      "Epoch 31/50\n",
      " - 0s - loss: 0.0553 - acc: 0.0705 - val_loss: 0.0695 - val_acc: 0.1500\n",
      "Epoch 32/50\n",
      " - 0s - loss: 0.0549 - acc: 0.0705 - val_loss: 0.0689 - val_acc: 0.1500\n",
      "Epoch 33/50\n",
      " - 0s - loss: 0.0544 - acc: 0.0705 - val_loss: 0.0683 - val_acc: 0.1500\n",
      "Epoch 34/50\n",
      " - 0s - loss: 0.0541 - acc: 0.0705 - val_loss: 0.0678 - val_acc: 0.1500\n",
      "Epoch 35/50\n",
      " - 0s - loss: 0.0537 - acc: 0.0705 - val_loss: 0.0673 - val_acc: 0.1500\n",
      "Epoch 36/50\n",
      " - 0s - loss: 0.0533 - acc: 0.0705 - val_loss: 0.0667 - val_acc: 0.1500\n",
      "Epoch 37/50\n",
      " - 0s - loss: 0.0530 - acc: 0.0705 - val_loss: 0.0662 - val_acc: 0.1500\n",
      "Epoch 38/50\n",
      " - 0s - loss: 0.0526 - acc: 0.0705 - val_loss: 0.0657 - val_acc: 0.1500\n",
      "Epoch 39/50\n",
      " - 0s - loss: 0.0523 - acc: 0.0705 - val_loss: 0.0651 - val_acc: 0.1500\n",
      "Epoch 40/50\n",
      " - 0s - loss: 0.0519 - acc: 0.0705 - val_loss: 0.0646 - val_acc: 0.1500\n",
      "Epoch 41/50\n",
      " - 0s - loss: 0.0515 - acc: 0.0705 - val_loss: 0.0640 - val_acc: 0.1500\n",
      "Epoch 42/50\n",
      " - 0s - loss: 0.0511 - acc: 0.0705 - val_loss: 0.0635 - val_acc: 0.1500\n",
      "Epoch 43/50\n",
      " - 0s - loss: 0.0507 - acc: 0.0705 - val_loss: 0.0630 - val_acc: 0.1500\n",
      "Epoch 44/50\n",
      " - 0s - loss: 0.0503 - acc: 0.0705 - val_loss: 0.0624 - val_acc: 0.1500\n",
      "Epoch 45/50\n",
      " - 0s - loss: 0.0499 - acc: 0.0769 - val_loss: 0.0619 - val_acc: 0.1500\n",
      "Epoch 46/50\n",
      " - 0s - loss: 0.0495 - acc: 0.0769 - val_loss: 0.0614 - val_acc: 0.1500\n",
      "Epoch 47/50\n",
      " - 0s - loss: 0.0491 - acc: 0.0833 - val_loss: 0.0609 - val_acc: 0.1500\n",
      "Epoch 48/50\n",
      " - 0s - loss: 0.0487 - acc: 0.0897 - val_loss: 0.0603 - val_acc: 0.1500\n",
      "Epoch 49/50\n",
      " - 0s - loss: 0.0483 - acc: 0.0897 - val_loss: 0.0598 - val_acc: 0.1500\n",
      "Epoch 50/50\n",
      " - 0s - loss: 0.0478 - acc: 0.0962 - val_loss: 0.0594 - val_acc: 0.1500\n"
     ]
    }
   ],
   "source": [
    "# fit network\n",
    "history = model.fit(train_X, train_y, epochs=50, batch_size=72, validation_data=(test_X, test_y), verbose=2, shuffle=False)"
   ]
  },
  {
   "cell_type": "code",
   "execution_count": 138,
   "metadata": {},
   "outputs": [
    {
     "data": {
      "image/png": "[encoded data removed]",
      "text/plain": [
       "<matplotlib.figure.Figure at 0x1a2bd277d0>"
      ]
     },
     "metadata": {},
     "output_type": "display_data"
    },
    {
     "data": {
      "image/png": "[encoded data removed]",
      "text/plain": [
       "<matplotlib.figure.Figure at 0x1a2bdeef90>"
      ]
     },
     "metadata": {},
     "output_type": "display_data"
    }
   ],
   "source": [
    "# summarize history for accuracy\n",
    "plt.plot(history.history['acc'])\n",
    "plt.plot(history.history['val_acc'])\n",
    "plt.title('model accuracy')\n",
    "plt.ylabel('accuracy')\n",
    "plt.xlabel('epoch')\n",
    "plt.legend(['train', 'test'], loc='upper left')\n",
    "plt.show()\n",
    "# summarize history for loss\n",
    "plt.plot(history.history['loss'])\n",
    "plt.plot(history.history['val_loss'])\n",
    "plt.title('model loss')\n",
    "plt.ylabel('loss')\n",
    "plt.xlabel('epoch')\n",
    "plt.legend(['train', 'test'], loc='upper left')\n",
    "plt.show()"
   ]
  },
  {
   "cell_type": "code",
   "execution_count": 139,
   "metadata": {},
   "outputs": [],
   "source": [
    "# make a prediction\n",
    "yhat = model.predict(test_X)\n",
    "test_X = test_X.reshape((test_X.shape[0], test_X.shape[2]))"
   ]
  },
  {
   "cell_type": "code",
   "execution_count": 140,
   "metadata": {},
   "outputs": [
    {
     "name": "stdout",
     "output_type": "stream",
     "text": [
      "Test RMSE: 1.218\n"
     ]
    }
   ],
   "source": [
    "# invert scaling for forecast\n",
    "inv_yhat = concatenate((yhat, test_X[:, 1:]), axis=1)\n",
    "inv_yhat = scaler.inverse_transform(inv_yhat)\n",
    "inv_yhat = inv_yhat[:,0]\n",
    "# invert scaling for actual\n",
    "test_y = test_y.reshape((len(test_y), 1))\n",
    "inv_y = concatenate((test_y, test_X[:, 1:]), axis=1)\n",
    "inv_y = scaler.inverse_transform(inv_y)\n",
    "inv_y = inv_y[:,0]\n",
    "# calculate RMSE\n",
    "rmse = sqrt(mean_squared_error(inv_y, inv_yhat))\n",
    "print('Test RMSE: %.3f' % rmse)"
   ]
  },
  {
   "cell_type": "code",
   "execution_count": 142,
   "metadata": {},
   "outputs": [],
   "source": [
    "def create_model(labels, refraimed_data, batch_size = 52, n_neurons = 50):\n",
    "    #dataLength =  4 weeks\n",
    "    stateInputs = {}\n",
    "    stateLayers = []\n",
    "    i = 0\n",
    "    model.add(LSTM(50, input_shape=(train_X.shape[1], train_X.shape[2])))\n",
    "    model.add(Dense(1))\n",
    "    for label in labels:\n",
    "        data = refraimed_data[i]\n",
    "        i+=1\n",
    "        timesteps = data.shape[1]\n",
    "        features = data.shape[2]\n",
    "        print(\"timesteps: {}\".format(timesteps))\n",
    "        inputName = \"{}_input\".format(label)\n",
    "        stateInputs[inputName] = Input(shape=(timesteps,features),\n",
    "                                       batch_shape =(batch_size, timesteps, features), \n",
    "                                       name=inputName)\n",
    "        \n",
    "    for state in stateInputs:\n",
    "        stateL = LSTM(n_neurons, return_sequences=False, stateful=True,\n",
    "                            batch_input_shape=(batch_size, timesteps, features))(stateInputs[state])\n",
    "        stateLayers.append(stateL)\n",
    "    #combined the output\n",
    "    output = keras.layers.concatenate(stateLayers)\n",
    "    output = Dense(1, activation='relu', name='wheighthedAverage_output')(output)\n",
    "    stateInput = stateInputs.values()\n",
    "    \n",
    "    model = Model(inputs = stateInput, outputs = [output])\n",
    "    model.compile(optimizer='adam', loss='mse', metrics=['accuracy'])\n",
    "    return model"
   ]
  },
  {
   "cell_type": "code",
   "execution_count": null,
   "metadata": {},
   "outputs": [],
   "source": []
  },
  {
   "cell_type": "code",
   "execution_count": null,
   "metadata": {},
   "outputs": [],
   "source": []
  }
 ],
 "metadata": {
  "kernelspec": {
   "display_name": "Python 2",
   "language": "python",
   "name": "python2"
  },
  "language_info": {
   "codemirror_mode": {
    "name": "ipython",
    "version": 2
   },
   "file_extension": ".py",
   "mimetype": "text/x-python",
   "name": "python",
   "nbconvert_exporter": "python",
   "pygments_lexer": "ipython2",
   "version": "2.7.14"
  }
 },
 "nbformat": 4,
 "nbformat_minor": 2
}
