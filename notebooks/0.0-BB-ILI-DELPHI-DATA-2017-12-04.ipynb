{
 "cells": [
  {
   "cell_type": "markdown",
   "metadata": {},
   "source": [
    "# Data Preparation"
   ]
  },
  {
   "cell_type": "code",
   "execution_count": 1,
   "metadata": {
    "collapsed": true
   },
   "outputs": [],
   "source": [
    "# Load the \"autoreload\" extension\n",
    "%load_ext autoreload\n",
    "\n",
    "# always reload modules marked with \"%aimport\"\n",
    "%autoreload 1"
   ]
  },
  {
   "cell_type": "code",
   "execution_count": 2,
   "metadata": {},
   "outputs": [],
   "source": [
    "%matplotlib inline"
   ]
  },
  {
   "cell_type": "code",
   "execution_count": 3,
   "metadata": {
    "collapsed": true
   },
   "outputs": [],
   "source": [
    "import os\n",
    "import sys\n",
    "\n",
    "# add the 'src' directory as one where we can import modules\n",
    "src_dir = os.path.join(os.getcwd(), os.pardir, 'src')\n",
    "sys.path.append(src_dir)"
   ]
  },
  {
   "cell_type": "markdown",
   "metadata": {},
   "source": [
    "# Definiton of an epiweek :\n",
    "\n",
    "Epiweeks use the U.S. definition. That is, the first epiweek each year is the week, starting on a Sunday, containing January 4. \n",
    "ref : [epiweek](http://www.cmmcp.org/epiweek.htm)"
   ]
  },
  {
   "cell_type": "code",
   "execution_count": 8,
   "metadata": {
    "collapsed": true
   },
   "outputs": [],
   "source": [
    "## Testing Delphi epidata\n",
    "\n",
    "# import my method from the source code\n",
    "%aimport data.delphi_epidata\n",
    "from data.delphi_epidata import Epidata"
   ]
  },
  {
   "cell_type": "code",
   "execution_count": 9,
   "metadata": {
    "collapsed": true
   },
   "outputs": [],
   "source": [
    "# Fetch State data from 2010 to 2015 in the US \n",
    "import pandas as pd"
   ]
  },
  {
   "cell_type": "code",
   "execution_count": 10,
   "metadata": {
    "collapsed": true
   },
   "outputs": [
    {
     "ename": "NameError",
     "evalue": "name 'drop' is not defined",
     "output_type": "error",
     "traceback": [
      "\u001b[0;31m---------------------------------------------------------------------------\u001b[0m",
      "\u001b[0;31mNameError\u001b[0m                                 Traceback (most recent call last)",
      "\u001b[0;32m<ipython-input-10-b57b4c33264a>\u001b[0m in \u001b[0;36m<module>\u001b[0;34m()\u001b[0m\n\u001b[0;32m----> 1\u001b[0;31m \u001b[0mdrop\u001b[0m\u001b[0;34m\u001b[0m\u001b[0m\n\u001b[0m",
      "\u001b[0;31mNameError\u001b[0m: name 'drop' is not defined"
     ]
    }
   ],
   "source": [
    "drop "
   ]
  },
  {
   "cell_type": "code",
   "execution_count": 11,
   "metadata": {},
   "outputs": [
    {
     "ename": "NameError",
     "evalue": "name 'get_states' is not defined",
     "output_type": "error",
     "traceback": [
      "\u001b[0;31m---------------------------------------------------------------------------\u001b[0m",
      "\u001b[0;31mNameError\u001b[0m                                 Traceback (most recent call last)",
      "\u001b[0;32m<ipython-input-11-2df944b19874>\u001b[0m in \u001b[0;36m<module>\u001b[0;34m()\u001b[0m\n\u001b[0;32m----> 1\u001b[0;31m \u001b[0mstates\u001b[0m \u001b[0;34m=\u001b[0m \u001b[0mget_states\u001b[0m\u001b[0;34m(\u001b[0m\u001b[0;34m)\u001b[0m\u001b[0;34m\u001b[0m\u001b[0m\n\u001b[0m\u001b[1;32m      2\u001b[0m \u001b[0mstart\u001b[0m \u001b[0;34m=\u001b[0m \u001b[0;36m200900\u001b[0m\u001b[0;34m\u001b[0m\u001b[0m\n\u001b[1;32m      3\u001b[0m \u001b[0mend\u001b[0m \u001b[0;34m=\u001b[0m \u001b[0;36m201653\u001b[0m\u001b[0;34m\u001b[0m\u001b[0m\n",
      "\u001b[0;31mNameError\u001b[0m: name 'get_states' is not defined"
     ]
    }
   ],
   "source": [
    "states = get_states()\n",
    "start = 200900\n",
    "end = 201653"
   ]
  },
  {
   "cell_type": "code",
   "execution_count": 50,
   "metadata": {
    "collapsed": true
   },
   "outputs": [
    {
     "name": "stdout",
     "output_type": "stream",
     "text": [
      "State AK\n",
      "(1, u'success', 79)\n",
      "State AL\n",
      "(1, u'success', 189)\n",
      "State AR\n",
      "(1, u'success', 137)\n",
      "State AZ\n",
      "(1, u'success', 293)\n",
      "State CA\n",
      "(1, u'success', 288)\n",
      "State CO\n",
      "(1, u'success', 198)\n",
      "State CT\n",
      "(1, u'success', 300)\n",
      "State DC\n",
      "(-2, u'no success')\n",
      "State DE\n",
      "(1, u'success', 199)\n",
      "State FL\n",
      "(1, u'success', 295)\n",
      "State GA\n",
      "(1, u'success', 133)\n",
      "State HI\n",
      "(1, u'success', 33)\n",
      "State IA\n",
      "(1, u'success', 264)\n",
      "State ID\n",
      "(1, u'success', 164)\n",
      "State IL\n",
      "(1, u'success', 179)\n",
      "State IN\n",
      "(1, u'success', 169)\n",
      "State KS\n",
      "(1, u'success', 189)\n",
      "State KY\n",
      "(-2, u'no success')\n",
      "State LA\n",
      "(1, u'success', 242)\n",
      "State MA\n",
      "(1, u'success', 288)\n",
      "State MD\n",
      "(1, u'success', 194)\n",
      "State ME\n",
      "(1, u'success', 166)\n",
      "State MI\n",
      "(1, u'success', 241)\n",
      "State MN\n",
      "(1, u'success', 200)\n",
      "State MO\n",
      "(1, u'success', 199)\n",
      "State MS\n",
      "(1, u'success', 266)\n",
      "State MT\n",
      "(1, u'success', 201)\n",
      "State NC\n",
      "(1, u'success', 199)\n",
      "State ND\n",
      "(1, u'success', 43)\n",
      "State NE\n",
      "(1, u'success', 133)\n",
      "State NH\n",
      "(1, u'success', 190)\n",
      "State NJ\n",
      "(1, u'success', 298)\n",
      "State NM\n",
      "(1, u'success', 67)\n",
      "State NV\n",
      "(1, u'success', 107)\n",
      "State NY\n",
      "(1, u'success', 211)\n",
      "State OH\n",
      "(1, u'success', 193)\n",
      "State OK\n",
      "(1, u'success', 185)\n",
      "State OR\n",
      "(1, u'success', 274)\n",
      "State PA\n",
      "(1, u'success', 33)\n",
      "State RI\n",
      "(1, u'success', 197)\n",
      "State SC\n",
      "(1, u'success', 249)\n",
      "State SD\n",
      "(1, u'success', 196)\n",
      "State TN\n",
      "(1, u'success', 294)\n",
      "State TX\n",
      "(1, u'success', 256)\n",
      "State UT\n",
      "(-2, u'no success')\n",
      "State VA\n",
      "(-2, u'no success')\n",
      "State VT\n",
      "(1, u'success', 137)\n",
      "State WA\n",
      "(1, u'success', 94)\n",
      "State WI\n",
      "(1, u'success', 78)\n",
      "State WV\n",
      "(1, u'success', 281)\n",
      "State WY\n",
      "(1, u'success', 170)\n"
     ]
    }
   ],
   "source": [
    "ilinet_raw = get_ilinet_data(states, start, end)"
   ]
  },
  {
   "cell_type": "code",
   "execution_count": 52,
   "metadata": {},
   "outputs": [
    {
     "name": "stdout",
     "output_type": "stream",
     "text": [
      "State AK\n",
      "(1, u'success', 326)\n",
      "State AL\n",
      "(1, u'success', 326)\n",
      "State AR\n",
      "(1, u'success', 326)\n",
      "State AZ\n",
      "(1, u'success', 326)\n",
      "State CA\n",
      "(1, u'success', 326)\n",
      "State CO\n",
      "(1, u'success', 326)\n",
      "State CT\n",
      "(1, u'success', 326)\n",
      "State DC\n",
      "(1, u'success', 326)\n",
      "State DE\n",
      "(1, u'success', 326)\n",
      "State FL\n",
      "(-2, u'no success')\n",
      "State GA\n",
      "(1, u'success', 326)\n",
      "State HI\n",
      "(1, u'success', 326)\n",
      "State IA\n",
      "(1, u'success', 326)\n",
      "State ID\n",
      "(1, u'success', 326)\n",
      "State IL\n",
      "(1, u'success', 326)\n",
      "State IN\n",
      "(1, u'success', 326)\n",
      "State KS\n",
      "(1, u'success', 326)\n",
      "State KY\n",
      "(1, u'success', 326)\n",
      "State LA\n",
      "(-2, u'no success')\n",
      "State MA\n",
      "(1, u'success', 326)\n",
      "State MD\n",
      "(1, u'success', 326)\n",
      "State ME\n",
      "(1, u'success', 326)\n",
      "State MI\n",
      "(1, u'success', 326)\n",
      "State MN\n",
      "(1, u'success', 326)\n",
      "State MO\n",
      "(1, u'success', 326)\n",
      "State MS\n",
      "(1, u'success', 326)\n",
      "State MT\n",
      "(1, u'success', 326)\n",
      "State NC\n",
      "(1, u'success', 326)\n",
      "State ND\n",
      "(1, u'success', 326)\n",
      "State NE\n",
      "(1, u'success', 326)\n",
      "State NH\n",
      "(1, u'success', 326)\n",
      "State NJ\n",
      "(1, u'success', 326)\n",
      "State NM\n",
      "(1, u'success', 326)\n",
      "State NV\n",
      "(1, u'success', 326)\n",
      "State NY\n",
      "(1, u'success', 326)\n",
      "State OH\n",
      "(1, u'success', 326)\n",
      "State OK\n",
      "(1, u'success', 326)\n",
      "State OR\n",
      "(1, u'success', 326)\n",
      "State PA\n",
      "(1, u'success', 326)\n",
      "State RI\n",
      "(1, u'success', 326)\n",
      "State SC\n",
      "(1, u'success', 326)\n",
      "State SD\n",
      "(1, u'success', 326)\n",
      "State TN\n",
      "(1, u'success', 326)\n",
      "State TX\n",
      "(1, u'success', 326)\n",
      "State UT\n",
      "(1, u'success', 326)\n",
      "State VA\n",
      "(1, u'success', 326)\n",
      "State VT\n",
      "(1, u'success', 326)\n",
      "State WA\n",
      "(1, u'success', 326)\n",
      "State WI\n",
      "(1, u'success', 326)\n",
      "State WV\n",
      "(1, u'success', 326)\n",
      "State WY\n",
      "(1, u'success', 326)\n"
     ]
    }
   ],
   "source": [
    "fluview_raw = get_fluview_data(states, start, end)"
   ]
  },
  {
   "cell_type": "code",
   "execution_count": 58,
   "metadata": {},
   "outputs": [
    {
     "data": {
      "text/html": [
       "<div>\n",
       "<style>\n",
       "    .dataframe thead tr:only-child th {\n",
       "        text-align: right;\n",
       "    }\n",
       "\n",
       "    .dataframe thead th {\n",
       "        text-align: left;\n",
       "    }\n",
       "\n",
       "    .dataframe tbody tr th {\n",
       "        vertical-align: top;\n",
       "    }\n",
       "</style>\n",
       "<table border=\"1\" class=\"dataframe\">\n",
       "  <thead>\n",
       "    <tr style=\"text-align: right;\">\n",
       "      <th></th>\n",
       "      <th>epiweek</th>\n",
       "      <th>ili</th>\n",
       "      <th>ili_estimate</th>\n",
       "      <th>location</th>\n",
       "      <th>num_age_0</th>\n",
       "      <th>num_age_1</th>\n",
       "      <th>num_age_2</th>\n",
       "      <th>num_age_3</th>\n",
       "      <th>num_age_4</th>\n",
       "      <th>num_age_5</th>\n",
       "      <th>num_ili</th>\n",
       "      <th>num_patients</th>\n",
       "      <th>num_providers</th>\n",
       "    </tr>\n",
       "  </thead>\n",
       "  <tbody>\n",
       "    <tr>\n",
       "      <th>0</th>\n",
       "      <td>201040</td>\n",
       "      <td>0.26</td>\n",
       "      <td>0.26</td>\n",
       "      <td>NY</td>\n",
       "      <td>None</td>\n",
       "      <td>None</td>\n",
       "      <td>None</td>\n",
       "      <td>None</td>\n",
       "      <td>None</td>\n",
       "      <td>None</td>\n",
       "      <td>None</td>\n",
       "      <td>None</td>\n",
       "      <td>None</td>\n",
       "    </tr>\n",
       "    <tr>\n",
       "      <th>1</th>\n",
       "      <td>201041</td>\n",
       "      <td>0.36</td>\n",
       "      <td>0.36</td>\n",
       "      <td>NY</td>\n",
       "      <td>None</td>\n",
       "      <td>None</td>\n",
       "      <td>None</td>\n",
       "      <td>None</td>\n",
       "      <td>None</td>\n",
       "      <td>None</td>\n",
       "      <td>None</td>\n",
       "      <td>None</td>\n",
       "      <td>None</td>\n",
       "    </tr>\n",
       "    <tr>\n",
       "      <th>2</th>\n",
       "      <td>201042</td>\n",
       "      <td>0.36</td>\n",
       "      <td>0.36</td>\n",
       "      <td>NY</td>\n",
       "      <td>None</td>\n",
       "      <td>None</td>\n",
       "      <td>None</td>\n",
       "      <td>None</td>\n",
       "      <td>None</td>\n",
       "      <td>None</td>\n",
       "      <td>None</td>\n",
       "      <td>None</td>\n",
       "      <td>None</td>\n",
       "    </tr>\n",
       "  </tbody>\n",
       "</table>\n",
       "</div>"
      ],
      "text/plain": [
       "   epiweek   ili  ili_estimate location num_age_0 num_age_1 num_age_2  \\\n",
       "0   201040  0.26          0.26       NY      None      None      None   \n",
       "1   201041  0.36          0.36       NY      None      None      None   \n",
       "2   201042  0.36          0.36       NY      None      None      None   \n",
       "\n",
       "  num_age_3 num_age_4 num_age_5 num_ili num_patients num_providers  \n",
       "0      None      None      None    None         None          None  \n",
       "1      None      None      None    None         None          None  \n",
       "2      None      None      None    None         None          None  "
      ]
     },
     "execution_count": 58,
     "metadata": {},
     "output_type": "execute_result"
    }
   ],
   "source": [
    "ilinet_raw['NY'].head(3)"
   ]
  },
  {
   "cell_type": "code",
   "execution_count": 64,
   "metadata": {},
   "outputs": [
    {
     "name": "stdout",
     "output_type": "stream",
     "text": [
      "The data contains 13 features\n"
     ]
    }
   ],
   "source": [
    "l = len(ilinet_raw['NY'].columns)\n",
    "print(\"The data contains {} features\".format(l))"
   ]
  },
  {
   "cell_type": "code",
   "execution_count": 67,
   "metadata": {},
   "outputs": [
    {
     "data": {
      "text/html": [
       "<div>\n",
       "<style>\n",
       "    .dataframe thead tr:only-child th {\n",
       "        text-align: right;\n",
       "    }\n",
       "\n",
       "    .dataframe thead th {\n",
       "        text-align: left;\n",
       "    }\n",
       "\n",
       "    .dataframe tbody tr th {\n",
       "        vertical-align: top;\n",
       "    }\n",
       "</style>\n",
       "<table border=\"1\" class=\"dataframe\">\n",
       "  <thead>\n",
       "    <tr style=\"text-align: right;\">\n",
       "      <th></th>\n",
       "      <th>epiweek</th>\n",
       "      <th>ili</th>\n",
       "      <th>issue</th>\n",
       "      <th>lag</th>\n",
       "      <th>num_age_0</th>\n",
       "      <th>num_age_1</th>\n",
       "      <th>num_age_2</th>\n",
       "      <th>num_age_3</th>\n",
       "      <th>num_age_4</th>\n",
       "      <th>num_age_5</th>\n",
       "      <th>num_ili</th>\n",
       "      <th>num_patients</th>\n",
       "      <th>num_providers</th>\n",
       "      <th>region</th>\n",
       "      <th>release_date</th>\n",
       "      <th>wili</th>\n",
       "    </tr>\n",
       "  </thead>\n",
       "  <tbody>\n",
       "    <tr>\n",
       "      <th>0</th>\n",
       "      <td>201040</td>\n",
       "      <td>0.262990</td>\n",
       "      <td>201740</td>\n",
       "      <td>365</td>\n",
       "      <td>None</td>\n",
       "      <td>None</td>\n",
       "      <td>None</td>\n",
       "      <td>None</td>\n",
       "      <td>None</td>\n",
       "      <td>None</td>\n",
       "      <td>37</td>\n",
       "      <td>14069</td>\n",
       "      <td>91</td>\n",
       "      <td>ny</td>\n",
       "      <td>2017-10-24</td>\n",
       "      <td>0.262990</td>\n",
       "    </tr>\n",
       "    <tr>\n",
       "      <th>1</th>\n",
       "      <td>201041</td>\n",
       "      <td>0.369729</td>\n",
       "      <td>201740</td>\n",
       "      <td>364</td>\n",
       "      <td>None</td>\n",
       "      <td>None</td>\n",
       "      <td>None</td>\n",
       "      <td>None</td>\n",
       "      <td>None</td>\n",
       "      <td>None</td>\n",
       "      <td>47</td>\n",
       "      <td>12712</td>\n",
       "      <td>89</td>\n",
       "      <td>ny</td>\n",
       "      <td>2017-10-24</td>\n",
       "      <td>0.369729</td>\n",
       "    </tr>\n",
       "    <tr>\n",
       "      <th>2</th>\n",
       "      <td>201042</td>\n",
       "      <td>0.362121</td>\n",
       "      <td>201740</td>\n",
       "      <td>363</td>\n",
       "      <td>None</td>\n",
       "      <td>None</td>\n",
       "      <td>None</td>\n",
       "      <td>None</td>\n",
       "      <td>None</td>\n",
       "      <td>None</td>\n",
       "      <td>53</td>\n",
       "      <td>14636</td>\n",
       "      <td>95</td>\n",
       "      <td>ny</td>\n",
       "      <td>2017-10-24</td>\n",
       "      <td>0.362121</td>\n",
       "    </tr>\n",
       "  </tbody>\n",
       "</table>\n",
       "</div>"
      ],
      "text/plain": [
       "   epiweek       ili   issue  lag num_age_0 num_age_1 num_age_2 num_age_3  \\\n",
       "0   201040  0.262990  201740  365      None      None      None      None   \n",
       "1   201041  0.369729  201740  364      None      None      None      None   \n",
       "2   201042  0.362121  201740  363      None      None      None      None   \n",
       "\n",
       "  num_age_4 num_age_5  num_ili  num_patients  num_providers region  \\\n",
       "0      None      None       37         14069             91     ny   \n",
       "1      None      None       47         12712             89     ny   \n",
       "2      None      None       53         14636             95     ny   \n",
       "\n",
       "  release_date      wili  \n",
       "0   2017-10-24  0.262990  \n",
       "1   2017-10-24  0.369729  \n",
       "2   2017-10-24  0.362121  "
      ]
     },
     "execution_count": 67,
     "metadata": {},
     "output_type": "execute_result"
    }
   ],
   "source": [
    "NY_ili = fluview_raw['NY']\n",
    "fluview_raw['NY'].head(3)"
   ]
  },
  {
   "cell_type": "code",
   "execution_count": 66,
   "metadata": {},
   "outputs": [
    {
     "name": "stdout",
     "output_type": "stream",
     "text": [
      "The data contains 16 features\n"
     ]
    }
   ],
   "source": [
    "l = len(fluview_raw['NY'].columns)\n",
    "print(\"The data contains {} features\".format(l))"
   ]
  },
  {
   "cell_type": "code",
   "execution_count": 74,
   "metadata": {},
   "outputs": [
    {
     "data": {
      "text/plain": [
       "<matplotlib.axes._subplots.AxesSubplot at 0x11da65c50>"
      ]
     },
     "execution_count": 74,
     "metadata": {},
     "output_type": "execute_result"
    },
    {
     "data": {
      "image/png": "[encoded data removed]",
      "text/plain": [
       "<matplotlib.figure.Figure at 0x11db32cd0>"
      ]
     },
     "metadata": {},
     "output_type": "display_data"
    }
   ],
   "source": [
    "NY_ili['wili'].plot.hist(bins=20)"
   ]
  },
  {
   "cell_type": "code",
   "execution_count": null,
   "metadata": {},
   "outputs": [],
   "source": []
  }
 ],
 "metadata": {
  "kernelspec": {
   "display_name": "Python 2",
   "language": "python",
   "name": "python2"
  },
  "language_info": {
   "codemirror_mode": {
    "name": "ipython",
    "version": 2
   },
   "file_extension": ".py",
   "mimetype": "text/x-python",
   "name": "python",
   "nbconvert_exporter": "python",
   "pygments_lexer": "ipython2",
   "version": "2.7.14"
  }
 },
 "nbformat": 4,
 "nbformat_minor": 2
}
