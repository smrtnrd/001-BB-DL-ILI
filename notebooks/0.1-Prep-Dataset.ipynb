{
 "cells": [
  {
   "cell_type": "markdown",
   "metadata": {},
   "source": [
    "## Load dataset"
   ]
  },
  {
   "cell_type": "code",
   "execution_count": 171,
   "metadata": {},
   "outputs": [],
   "source": [
    "%load_ext autoreload\n",
    "%matplotlib inline"
   ]
  },
  {
   "cell_type": "code",
   "execution_count": 172,
   "metadata": {},
   "outputs": [],
   "source": [
    "# always reload modules marked with \"%aimport\"\n",
    "%autoreload 1"
   ]
  },
  {
   "cell_type": "code",
   "execution_count": 173,
   "metadata": {},
   "outputs": [],
   "source": [
    "#Load data\n",
    "\n",
    "%store -r ili_data"
   ]
  },
  {
   "cell_type": "code",
   "execution_count": 174,
   "metadata": {},
   "outputs": [
    {
     "data": {
      "text/html": [
       "<div>\n",
       "<style>\n",
       "    .dataframe thead tr:only-child th {\n",
       "        text-align: right;\n",
       "    }\n",
       "\n",
       "    .dataframe thead th {\n",
       "        text-align: left;\n",
       "    }\n",
       "\n",
       "    .dataframe tbody tr th {\n",
       "        vertical-align: top;\n",
       "    }\n",
       "</style>\n",
       "<table border=\"1\" class=\"dataframe\">\n",
       "  <thead>\n",
       "    <tr style=\"text-align: right;\">\n",
       "      <th></th>\n",
       "      <th>date</th>\n",
       "      <th>state</th>\n",
       "      <th>year</th>\n",
       "      <th>month</th>\n",
       "      <th>week</th>\n",
       "      <th>week_temp</th>\n",
       "      <th>week_prcp</th>\n",
       "      <th>ili_activity_label</th>\n",
       "      <th>ili_activity_group</th>\n",
       "      <th>a_h1</th>\n",
       "      <th>latitude</th>\n",
       "      <th>longitude</th>\n",
       "    </tr>\n",
       "  </thead>\n",
       "  <tbody>\n",
       "    <tr>\n",
       "      <th>15</th>\n",
       "      <td>2011-01-08</td>\n",
       "      <td>AK</td>\n",
       "      <td>2011</td>\n",
       "      <td>1</td>\n",
       "      <td>1</td>\n",
       "      <td>-3.565308</td>\n",
       "      <td>1.930157</td>\n",
       "      <td>Level 1</td>\n",
       "      <td>Minimal</td>\n",
       "      <td>0</td>\n",
       "      <td>61.370716</td>\n",
       "      <td>-152.404419</td>\n",
       "    </tr>\n",
       "    <tr>\n",
       "      <th>16</th>\n",
       "      <td>2011-01-15</td>\n",
       "      <td>AK</td>\n",
       "      <td>2011</td>\n",
       "      <td>1</td>\n",
       "      <td>2</td>\n",
       "      <td>-8.022067</td>\n",
       "      <td>0.250413</td>\n",
       "      <td>Level 2</td>\n",
       "      <td>Minimal</td>\n",
       "      <td>0</td>\n",
       "      <td>61.370716</td>\n",
       "      <td>-152.404419</td>\n",
       "    </tr>\n",
       "    <tr>\n",
       "      <th>17</th>\n",
       "      <td>2011-01-22</td>\n",
       "      <td>AK</td>\n",
       "      <td>2011</td>\n",
       "      <td>1</td>\n",
       "      <td>3</td>\n",
       "      <td>-14.500581</td>\n",
       "      <td>0.936114</td>\n",
       "      <td>Level 3</td>\n",
       "      <td>Minimal</td>\n",
       "      <td>0</td>\n",
       "      <td>61.370716</td>\n",
       "      <td>-152.404419</td>\n",
       "    </tr>\n",
       "    <tr>\n",
       "      <th>18</th>\n",
       "      <td>2011-01-29</td>\n",
       "      <td>AK</td>\n",
       "      <td>2011</td>\n",
       "      <td>1</td>\n",
       "      <td>4</td>\n",
       "      <td>-9.774797</td>\n",
       "      <td>1.784652</td>\n",
       "      <td>Level 2</td>\n",
       "      <td>Minimal</td>\n",
       "      <td>0</td>\n",
       "      <td>61.370716</td>\n",
       "      <td>-152.404419</td>\n",
       "    </tr>\n",
       "    <tr>\n",
       "      <th>19</th>\n",
       "      <td>2011-02-05</td>\n",
       "      <td>AK</td>\n",
       "      <td>2011</td>\n",
       "      <td>1</td>\n",
       "      <td>5</td>\n",
       "      <td>-4.533875</td>\n",
       "      <td>0.342017</td>\n",
       "      <td>Level 5</td>\n",
       "      <td>Low</td>\n",
       "      <td>0</td>\n",
       "      <td>61.370716</td>\n",
       "      <td>-152.404419</td>\n",
       "    </tr>\n",
       "  </tbody>\n",
       "</table>\n",
       "</div>"
      ],
      "text/plain": [
       "          date state  year  month  week  week_temp  week_prcp  \\\n",
       "15  2011-01-08    AK  2011      1     1  -3.565308   1.930157   \n",
       "16  2011-01-15    AK  2011      1     2  -8.022067   0.250413   \n",
       "17  2011-01-22    AK  2011      1     3 -14.500581   0.936114   \n",
       "18  2011-01-29    AK  2011      1     4  -9.774797   1.784652   \n",
       "19  2011-02-05    AK  2011      1     5  -4.533875   0.342017   \n",
       "\n",
       "   ili_activity_label ili_activity_group  a_h1   latitude   longitude  \n",
       "15            Level 1            Minimal     0  61.370716 -152.404419  \n",
       "16            Level 2            Minimal     0  61.370716 -152.404419  \n",
       "17            Level 3            Minimal     0  61.370716 -152.404419  \n",
       "18            Level 2            Minimal     0  61.370716 -152.404419  \n",
       "19            Level 5                Low     0  61.370716 -152.404419  "
      ]
     },
     "execution_count": 174,
     "metadata": {},
     "output_type": "execute_result"
    }
   ],
   "source": [
    "ili_data.head()"
   ]
  },
  {
   "cell_type": "code",
   "execution_count": 175,
   "metadata": {},
   "outputs": [
    {
     "name": "stdout",
     "output_type": "stream",
     "text": [
      "The data contains 11 features\n"
     ]
    },
    {
     "data": {
      "text/html": [
       "<div>\n",
       "<style>\n",
       "    .dataframe thead tr:only-child th {\n",
       "        text-align: right;\n",
       "    }\n",
       "\n",
       "    .dataframe thead th {\n",
       "        text-align: left;\n",
       "    }\n",
       "\n",
       "    .dataframe tbody tr th {\n",
       "        vertical-align: top;\n",
       "    }\n",
       "</style>\n",
       "<table border=\"1\" class=\"dataframe\">\n",
       "  <thead>\n",
       "    <tr style=\"text-align: right;\">\n",
       "      <th></th>\n",
       "      <th>date</th>\n",
       "      <th>state</th>\n",
       "      <th>year</th>\n",
       "      <th>week_temp</th>\n",
       "      <th>week_prcp</th>\n",
       "      <th>latitude</th>\n",
       "      <th>longitude</th>\n",
       "      <th>month</th>\n",
       "      <th>week</th>\n",
       "      <th>ili_activity_label</th>\n",
       "      <th>ili_activity_group</th>\n",
       "    </tr>\n",
       "  </thead>\n",
       "  <tbody>\n",
       "    <tr>\n",
       "      <th>15</th>\n",
       "      <td>2011-01-08</td>\n",
       "      <td>AK</td>\n",
       "      <td>2011</td>\n",
       "      <td>-3.565308</td>\n",
       "      <td>1.930157</td>\n",
       "      <td>61.370716</td>\n",
       "      <td>-152.404419</td>\n",
       "      <td>1</td>\n",
       "      <td>1</td>\n",
       "      <td>Level 1</td>\n",
       "      <td>Minimal</td>\n",
       "    </tr>\n",
       "    <tr>\n",
       "      <th>16</th>\n",
       "      <td>2011-01-15</td>\n",
       "      <td>AK</td>\n",
       "      <td>2011</td>\n",
       "      <td>-8.022067</td>\n",
       "      <td>0.250413</td>\n",
       "      <td>61.370716</td>\n",
       "      <td>-152.404419</td>\n",
       "      <td>1</td>\n",
       "      <td>2</td>\n",
       "      <td>Level 2</td>\n",
       "      <td>Minimal</td>\n",
       "    </tr>\n",
       "    <tr>\n",
       "      <th>17</th>\n",
       "      <td>2011-01-22</td>\n",
       "      <td>AK</td>\n",
       "      <td>2011</td>\n",
       "      <td>-14.500581</td>\n",
       "      <td>0.936114</td>\n",
       "      <td>61.370716</td>\n",
       "      <td>-152.404419</td>\n",
       "      <td>1</td>\n",
       "      <td>3</td>\n",
       "      <td>Level 3</td>\n",
       "      <td>Minimal</td>\n",
       "    </tr>\n",
       "    <tr>\n",
       "      <th>18</th>\n",
       "      <td>2011-01-29</td>\n",
       "      <td>AK</td>\n",
       "      <td>2011</td>\n",
       "      <td>-9.774797</td>\n",
       "      <td>1.784652</td>\n",
       "      <td>61.370716</td>\n",
       "      <td>-152.404419</td>\n",
       "      <td>1</td>\n",
       "      <td>4</td>\n",
       "      <td>Level 2</td>\n",
       "      <td>Minimal</td>\n",
       "    </tr>\n",
       "    <tr>\n",
       "      <th>19</th>\n",
       "      <td>2011-02-05</td>\n",
       "      <td>AK</td>\n",
       "      <td>2011</td>\n",
       "      <td>-4.533875</td>\n",
       "      <td>0.342017</td>\n",
       "      <td>61.370716</td>\n",
       "      <td>-152.404419</td>\n",
       "      <td>1</td>\n",
       "      <td>5</td>\n",
       "      <td>Level 5</td>\n",
       "      <td>Low</td>\n",
       "    </tr>\n",
       "  </tbody>\n",
       "</table>\n",
       "</div>"
      ],
      "text/plain": [
       "          date state  year  week_temp  week_prcp   latitude   longitude  \\\n",
       "15  2011-01-08    AK  2011  -3.565308   1.930157  61.370716 -152.404419   \n",
       "16  2011-01-15    AK  2011  -8.022067   0.250413  61.370716 -152.404419   \n",
       "17  2011-01-22    AK  2011 -14.500581   0.936114  61.370716 -152.404419   \n",
       "18  2011-01-29    AK  2011  -9.774797   1.784652  61.370716 -152.404419   \n",
       "19  2011-02-05    AK  2011  -4.533875   0.342017  61.370716 -152.404419   \n",
       "\n",
       "    month  week ili_activity_label ili_activity_group  \n",
       "15      1     1            Level 1            Minimal  \n",
       "16      1     2            Level 2            Minimal  \n",
       "17      1     3            Level 3            Minimal  \n",
       "18      1     4            Level 2            Minimal  \n",
       "19      1     5            Level 5                Low  "
      ]
     },
     "execution_count": 175,
     "metadata": {},
     "output_type": "execute_result"
    }
   ],
   "source": [
    "select = ['date','state','year',\n",
    "            'week_temp',\n",
    "            'week_prcp',\n",
    "            'latitude', \n",
    "            'longitude', \n",
    "            'month', \n",
    "            'week',\n",
    "            'ili_activity_label',\n",
    "            'ili_activity_group']\n",
    "raw = ili_data[select].copy()\n",
    "l = len(raw.columns)\n",
    "print(\"The data contains {} features\".format(l))\n",
    "raw.head()"
   ]
  },
  {
   "cell_type": "code",
   "execution_count": 176,
   "metadata": {},
   "outputs": [
    {
     "name": "stdout",
     "output_type": "stream",
     "text": [
      "Number of location : 46\n"
     ]
    }
   ],
   "source": [
    "nstates = len(ili_data.state.unique())\n",
    "print(\"Number of location : {}\".format(nstates))"
   ]
  },
  {
   "cell_type": "code",
   "execution_count": 177,
   "metadata": {},
   "outputs": [],
   "source": [
    "import numpy as np\n",
    "import pandas as pd\n",
    "import seaborn as sns\n",
    "import matplotlib.pyplot as plt\n",
    "import time\n",
    "from sklearn.preprocessing import StandardScaler\n",
    "from sklearn.model_selection import train_test_split\n",
    "\n",
    "import keras\n",
    "from keras.models import Sequential\n",
    "from keras.layers import Dense\n",
    "\n",
    "# fix random seed for reproducibility\n",
    "seed = 155\n",
    "np.random.seed(seed)\n",
    "\n",
    "import os\n",
    "os.environ['TF_CPP_MIN_LOG_LEVEL'] = '2'\n",
    "import sys\n",
    "\n",
    "# add the 'src' directory as one where we can import modules\n",
    "src_dir = os.path.join(os.getcwd(), os.pardir,'src')\n",
    "sys.path.append(src_dir)"
   ]
  },
  {
   "cell_type": "code",
   "execution_count": 178,
   "metadata": {},
   "outputs": [
    {
     "name": "stdout",
     "output_type": "stream",
     "text": [
      "/Users/bbuildman/Documents/Developer/GitHub/001-BB-DL-ILI/notebooks/../src\n"
     ]
    }
   ],
   "source": [
    "print(src_dir)"
   ]
  },
  {
   "cell_type": "code",
   "execution_count": 179,
   "metadata": {},
   "outputs": [],
   "source": [
    "# optional\n",
    "from keras.callbacks import ModelCheckpoint\n",
    "# specify filepath- this will write a new file for each epoch with the epoch number contained within the filename\n",
    "filepath=\"nn_weights-{epoch:02d}.hdf5\"\n",
    "checkpoint = keras.callbacks.ModelCheckpoint(filepath, monitor='val_acc', verbose=0, \n",
    "                                             save_weights_only=False, save_best_only=False, mode='max')"
   ]
  },
  {
   "cell_type": "code",
   "execution_count": 180,
   "metadata": {},
   "outputs": [],
   "source": [
    "from pandas import DataFrame\n",
    "from pandas import concat\n",
    "\n",
    "def series_to_supervised(data, n_in=1, n_out=1, dropnan=True):\n",
    "    \"\"\"\n",
    "    Frame a time series as a supervised learning dataset.\n",
    "    Arguments:\n",
    "        data: Sequence of observations as a list or NumPy array.\n",
    "        n_in: Number of lag observations as input (X).\n",
    "        n_out: Number of observations as output (y).\n",
    "        dropnan: Boolean whether or not to drop rows with NaN values.\n",
    "    Returns:\n",
    "       Pandas DataFrame of series framed for supervised learning.\n",
    "    \"\"\"\n",
    "    n_vars = 1 if type(data) is list else data.shape[1]\n",
    "    print(\"The data contains {} features\".format(n_vars))\n",
    "    df = DataFrame(data)\n",
    "    cols, names = list(), list()\n",
    "    # input sequence (t-n, ... t-1)\n",
    "    for i in range(n_in, 0, -1):\n",
    "        cols.append(df.shift(i))\n",
    "        names += [('var%d(t-%d)' % (j+1, i)) for j in range(n_vars)]\n",
    "    # forecast sequence (t, t+1, ... t+n)\n",
    "    for i in range(0, n_out):\n",
    "        cols.append(df.shift(-i))\n",
    "        if i == 0:\n",
    "            names += [('var%d(t)' % (j+1)) for j in range(n_vars)]\n",
    "        else:\n",
    "            names += [('var%d(t+%d)' % (j+1, i)) for j in range(n_vars)]\n",
    "    # put it all together\n",
    "    agg = concat(cols, axis=1)\n",
    "    agg.columns = names\n",
    "    # drop rows with NaN values\n",
    "    n_vars = len(agg.columns)\n",
    "    print(\"The reframed data contains {} features\".format(n_vars))\n",
    "\n",
    "    if dropnan:\n",
    "        agg.dropna(inplace=True)\n",
    "        return agg"
   ]
  },
  {
   "cell_type": "markdown",
   "metadata": {},
   "source": [
    "## Prepare Dataset"
   ]
  },
  {
   "cell_type": "code",
   "execution_count": 181,
   "metadata": {},
   "outputs": [],
   "source": [
    "from sklearn.preprocessing import MinMaxScaler\n",
    "from sklearn.preprocessing import LabelEncoder\n",
    "# Encode String + Categorical value\n",
    "encoder = LabelEncoder()\n",
    "\n",
    "def label_encoder(encoder, values, col, data):\n",
    "    v = values\n",
    "    for name in col:\n",
    "        #retrieve position in the dataframe\n",
    "        pos = data.columns.get_loc(name)\n",
    "        v[:,pos] = encoder.fit_transform(v[:,pos])\n",
    "    return v"
   ]
  },
  {
   "cell_type": "code",
   "execution_count": 182,
   "metadata": {},
   "outputs": [],
   "source": [
    "from sklearn.preprocessing import MinMaxScaler\n",
    "from sklearn.preprocessing import LabelEncoder\n",
    "\n",
    "encoder = LabelEncoder()"
   ]
  },
  {
   "cell_type": "code",
   "execution_count": 183,
   "metadata": {},
   "outputs": [],
   "source": [
    "def data(states_label, datasets, encoder):\n",
    "    n_weeks = 1\n",
    "    n_features = 1\n",
    "    data_states = {}\n",
    "    for state in states_label:\n",
    "        data = datasets[state]\n",
    "        names = list(data.columns.values)\n",
    "        if 'date' in names:\n",
    "            data.drop(['date'], 1, inplace=True)\n",
    "        values = data.values\n",
    "        col = ['state','ili_activity_label','ili_activity_group']\n",
    "        # encode data in database\n",
    "        values = label_encoder(encoder, values, col, data)\n",
    "        if(len(values)>=260):\n",
    "            print(state)\n",
    "            print(len(values))\n",
    "            data_states[state] = values\n",
    "\n",
    "    return data_states"
   ]
  },
  {
   "cell_type": "code",
   "execution_count": 184,
   "metadata": {},
   "outputs": [],
   "source": [
    " def reframe_data(data_states, n_weeks =1,n_features =1 ):\n",
    "        reframed_data = []\n",
    "        for state in data_states:\n",
    "            values=data_states[state]\n",
    "            # ensure all data is float\n",
    "            values = values.astype('float32')\n",
    "            # normalize features\n",
    "            reframed = series_to_supervised(values, n_weeks, n_features)\n",
    "            # drop columns we don't want to predict\n",
    "            reframed.drop(reframed.columns[[11,12,13,14,15,16]], axis=1, inplace=True)\n",
    "            # we are predicting ili activity\n",
    "            reframed_data.append(reframed)\n",
    "        return reframed_data"
   ]
  },
  {
   "cell_type": "code",
   "execution_count": 185,
   "metadata": {},
   "outputs": [],
   "source": [
    "def scale_data(values):\n",
    "    scaler = MinMaxScaler(feature_range=(0, 1))\n",
    "    scaled_data = scaler.fit_transform(values)\n",
    "    return scaled_data, scaler"
   ]
  },
  {
   "cell_type": "code",
   "execution_count": 186,
   "metadata": {},
   "outputs": [],
   "source": [
    "def train_data(data_preprocess, n_total_years, n_train_weeks ):\n",
    "    print(type(data_preprocess))\n",
    "    \"\"\"\n",
    "    prepare the data for RNN\n",
    "    \"\"\"\n",
    "    print(\"number of weeks in a year: {}\".format(n_total_years))\n",
    "    print(\"number of weeks in the training set : {}\".format(n_train_weeks))\n",
    "    train_features = []\n",
    "    train_label = []\n",
    "    test_features = []\n",
    "    test_label = []\n",
    "    print(len(data_preprocess))\n",
    "    for data in data_preprocess:\n",
    "        values = data.head(n_total_years).values\n",
    "        train = values[:n_train_weeks, :]\n",
    "        test = values[n_train_weeks:, :]\n",
    "        # split into input and outputs\n",
    "        train_X, train_y = train[:, :-1], train[:,-1]\n",
    "        test_X, test_y = test[:, :-1], test[:, -1]\n",
    "        train_X = train_X.reshape((train_X.shape[0], 1, train_X.shape[1]))\n",
    "        test_X = test_X.reshape((test_X.shape[0], 1, test_X.shape[1]))\n",
    "        #print(train_X.shape, train_y.shape, test_X.shape, test_y.shape)\n",
    "        train_features.append(train_X)\n",
    "        train_label.append(train_y)\n",
    "        test_features.append(test_X)\n",
    "        test_label.append(test_y)\n",
    "    return train_features, train_label, test_features, test_label"
   ]
  },
  {
   "cell_type": "code",
   "execution_count": 187,
   "metadata": {},
   "outputs": [
    {
     "name": "stdout",
     "output_type": "stream",
     "text": [
      "46\n"
     ]
    }
   ],
   "source": [
    "#we put everything together\n",
    "#sepate by states\n",
    "datasets = {}\n",
    "states_label = ili_data.state.unique()\n",
    "for s in states_label:\n",
    "    datasets[s] = raw[(raw.state == s)]\n",
    "    \n",
    "    \n",
    "print len(datasets)"
   ]
  },
  {
   "cell_type": "code",
   "execution_count": 188,
   "metadata": {},
   "outputs": [
    {
     "name": "stderr",
     "output_type": "stream",
     "text": [
      "/Users/bbuildman/anaconda3/envs/python2/lib/python2.7/site-packages/ipykernel_launcher.py:9: SettingWithCopyWarning: \n",
      "A value is trying to be set on a copy of a slice from a DataFrame\n",
      "\n",
      "See the caveats in the documentation: http://pandas.pydata.org/pandas-docs/stable/indexing.html#indexing-view-versus-copy\n",
      "  if __name__ == '__main__':\n"
     ]
    },
    {
     "name": "stdout",
     "output_type": "stream",
     "text": [
      "AK\n",
      "292\n",
      "AL\n",
      "285\n",
      "AR\n",
      "281\n",
      "AZ\n",
      "295\n",
      "CA\n",
      "295\n",
      "CO\n",
      "293\n",
      "CT\n",
      "277\n",
      "GA\n",
      "295\n",
      "HI\n",
      "295\n",
      "IL\n",
      "290\n",
      "IN\n",
      "295\n",
      "KY\n",
      "295\n",
      "MN\n",
      "290\n",
      "MO\n",
      "295\n",
      "NE\n",
      "268\n",
      "NY\n",
      "295\n",
      "OH\n",
      "273\n",
      "OK\n",
      "274\n",
      "PA\n",
      "295\n",
      "SC\n",
      "261\n",
      "SD\n",
      "269\n",
      "TX\n",
      "295\n",
      "UT\n",
      "293\n",
      "VA\n",
      "289\n",
      "WA\n",
      "295\n",
      "WI\n",
      "284\n",
      "WV\n",
      "295\n",
      "27\n"
     ]
    }
   ],
   "source": [
    "temp_data = data(states_label, datasets, encoder) \n",
    "print(len(temp_data))"
   ]
  },
  {
   "cell_type": "code",
   "execution_count": 189,
   "metadata": {},
   "outputs": [
    {
     "name": "stdout",
     "output_type": "stream",
     "text": [
      "The data contains 10 features\n",
      "The reframed data contains 20 features\n",
      "The data contains 10 features\n",
      "The reframed data contains 20 features\n",
      "The data contains 10 features\n",
      "The reframed data contains 20 features\n",
      "The data contains 10 features\n",
      "The reframed data contains 20 features\n",
      "The data contains 10 features\n",
      "The reframed data contains 20 features\n",
      "The data contains 10 features\n",
      "The reframed data contains 20 features\n",
      "The data contains 10 features\n",
      "The reframed data contains 20 features\n",
      "The data contains 10 features\n",
      "The reframed data contains 20 features\n",
      "The data contains 10 features\n",
      "The reframed data contains 20 features\n",
      "The data contains 10 features\n",
      "The reframed data contains 20 features\n",
      "The data contains 10 features\n",
      "The reframed data contains 20 features\n",
      "The data contains 10 features\n",
      "The reframed data contains 20 features\n",
      "The data contains 10 features\n",
      "The reframed data contains 20 features\n",
      "The data contains 10 features\n",
      "The reframed data contains 20 features\n",
      "The data contains 10 features\n",
      "The reframed data contains 20 features\n",
      "The data contains 10 features\n",
      "The reframed data contains 20 features\n",
      "The data contains 10 features\n",
      "The reframed data contains 20 features\n",
      "The data contains 10 features\n",
      "The reframed data contains 20 features\n",
      "The data contains 10 features\n",
      "The reframed data contains 20 features\n",
      "The data contains 10 features\n",
      "The reframed data contains 20 features\n",
      "The data contains 10 features\n",
      "The reframed data contains 20 features\n",
      "The data contains 10 features\n",
      "The reframed data contains 20 features\n",
      "The data contains 10 features\n",
      "The reframed data contains 20 features\n",
      "The data contains 10 features\n",
      "The reframed data contains 20 features\n",
      "The data contains 10 features\n",
      "The reframed data contains 20 features\n",
      "The data contains 10 features\n",
      "The reframed data contains 20 features\n",
      "The data contains 10 features\n",
      "The reframed data contains 20 features\n",
      "27\n"
     ]
    }
   ],
   "source": [
    "temp_reframed = reframe_data(temp_data)\n",
    "print(len(temp_reframed))"
   ]
  },
  {
   "cell_type": "code",
   "execution_count": 190,
   "metadata": {},
   "outputs": [
    {
     "name": "stdout",
     "output_type": "stream",
     "text": [
      "number of weeks in a year: 260\n",
      "number of weeks in the training set : 156\n"
     ]
    }
   ],
   "source": [
    "n_total_years = 5*52 # equivalent of 5 years of data\n",
    "n_train_weeks = 3*52 # equivalent of 3 years of data\n",
    "print(\"number of weeks in a year: {}\".format(n_total_years))\n",
    "print(\"number of weeks in the training set : {}\".format(n_train_weeks))"
   ]
  },
  {
   "cell_type": "code",
   "execution_count": 191,
   "metadata": {},
   "outputs": [
    {
     "name": "stdout",
     "output_type": "stream",
     "text": [
      "<type 'list'>\n",
      "number of weeks in a year: 260\n",
      "number of weeks in the training set : 156\n",
      "27\n"
     ]
    }
   ],
   "source": [
    "train_features, train_label, test_features, test_label = train_data(temp_reframed, n_total_years, n_train_weeks )"
   ]
  },
  {
   "cell_type": "code",
   "execution_count": 192,
   "metadata": {},
   "outputs": [
    {
     "name": "stdout",
     "output_type": "stream",
     "text": [
      "Number of training samples: 156\n",
      "Number of test samples: 104\n",
      "Timestep: 1\n",
      "Features: 13\n"
     ]
    }
   ],
   "source": [
    "print \"Number of training samples: %d\"%train_features[0].shape[0]\n",
    "print \"Number of test samples: %d\"%test_features[0].shape[0]\n",
    "print \"Timestep: %d\"%train_features[0].shape[1]\n",
    "print \"Features: %d\"%train_features[0].shape[2]"
   ]
  },
  {
   "cell_type": "code",
   "execution_count": 193,
   "metadata": {},
   "outputs": [],
   "source": [
    "%autoreload\n",
    "import time\n",
    "import os\n",
    "\n",
    "from keras.models import Sequential\n",
    "from keras.layers import Dense\n",
    "from keras.layers import LSTM\n",
    "from keras.layers import Input, concatenate\n",
    "from keras.models import Model\n",
    "\n",
    "#allow to use time distributed content\n",
    "from keras.layers import TimeDistributed\n",
    "from keras.callbacks import TensorBoard\n",
    "\n",
    "import numpy as np\n",
    "from numpy import concatenate\n",
    "\n",
    "from math import sqrt\n",
    "import matplotlib.pyplot as plt"
   ]
  },
  {
   "cell_type": "code",
   "execution_count": null,
   "metadata": {},
   "outputs": [],
   "source": [
    "data_dim = 13\n",
    "timesteps = 1\n",
    "batch_size = 52\n",
    "states = temp_data.keys()\n",
    "\n",
    "def simple_rnn_model(data_dim = 13,timesteps = 1,batch_size = 52,states = temp_data.keys(), n_neurons = 50):\n",
    "    #dataLength =  4 weeks\n",
    "    stateInputs = {}\n",
    "    stateLayers = []\n",
    "    i = 0\n",
    "    for state in states:\n",
    "        inputName = \"{}_input\".format(state)\n",
    "        stateInputs[inputName] = Input(shape=(timesteps,data_dim),\n",
    "                                       batch_shape =(batch_size, timesteps, data_dim), \n",
    "                                       name=inputName)\n",
    "    for state in stateInputs:\n",
    "        stateL = LSTM(n_neurons, return_sequences=False, stateful=True,\n",
    "                            batch_input_shape=(batch_size, timesteps, data_dim))(stateInputs[state])\n",
    "        stateLayers.append(stateL)\n",
    "     \n",
    "    #combined the output\n",
    "    output = keras.layers.concatenate(stateLayers)\n",
    "    output = Dense(1, activation='relu', name='wheighthedAverage_output')(output)\n",
    "    stateInput = stateInputs.values()\n",
    "    \n",
    "    model = Model(inputs = stateInput, outputs = [output])\n",
    "    model.compile(optimizer='adam', loss='mse', metrics=['accuracy'])\n",
    "    \n",
    "    return model"
   ]
  },
  {
   "cell_type": "code",
   "execution_count": null,
   "metadata": {},
   "outputs": [],
   "source": [
    "my_first_rnn = simple_rnn_model(data_dim,timesteps,batch_size,states)"
   ]
  },
  {
   "cell_type": "code",
   "execution_count": null,
   "metadata": {},
   "outputs": [],
   "source": [
    "processed_dir = os.path.join(os.getcwd(),os.pardir, 'models')\n",
    "processed_dir"
   ]
  },
  {
   "cell_type": "code",
   "execution_count": 197,
   "metadata": {},
   "outputs": [],
   "source": [
    "plot_model_history"
   ]
  },
  {
   "cell_type": "code",
   "execution_count": null,
   "metadata": {},
   "outputs": [],
   "source": [
    "# verbose=0 suppresses the file writing message\n",
    "# note that the fit method expects a list of callbacks\n",
    "start = time.time()\n",
    "my_first_rnn_fitted = my_first_rnn.fit(\n",
    "    train_features,\n",
    "    train_label[0], #label for the targeted state\n",
    "    validation_data= (\n",
    "        test_features,\n",
    "        test_label[0] ),\n",
    "    epochs=2000,\n",
    "    verbose=0,\n",
    "    shuffle = False,\n",
    "    batch_size=52,\n",
    "    callbacks=[checkpoint],\n",
    "    initial_epoch=0\n",
    ")\n",
    "end = time.time()\n",
    "print \"Model took %0.2f seconds to train\"%(end - start)"
   ]
  },
  {
   "cell_type": "code",
   "execution_count": 205,
   "metadata": {},
   "outputs": [
    {
     "data": {
      "text/plain": [
       "[0.46379945427179337, 0.82692307233810425]"
      ]
     },
     "execution_count": 205,
     "metadata": {},
     "output_type": "execute_result"
    }
   ],
   "source": [
    "# [loss, accuracy]\n",
    "my_first_rnn.evaluate(test_features, test_label[0],batch_size=52, verbose=0)"
   ]
  },
  {
   "cell_type": "code",
   "execution_count": 200,
   "metadata": {},
   "outputs": [],
   "source": [
    "# train_data.size % batch_size = 0\n",
    "def plot_model_history(model_history):\n",
    "    fig, axs = plt.subplots(1,2,figsize=(15,5))\n",
    "    # summarize history for accuracy\n",
    "    axs[0].plot(range(1,len(model_history.history['acc'])+1),model_history.history['acc'])\n",
    "    axs[0].plot(range(1,len(model_history.history['val_acc'])+1),model_history.history['val_acc'])\n",
    "    axs[0].set_title('Model Accuracy')\n",
    "    axs[0].set_ylabel('Accuracy')\n",
    "    axs[0].set_xlabel('Epoch')\n",
    "    axs[0].set_xticks(np.arange(1,len(model_history.history['acc'])+1),len(model_history.history['acc'])/10)\n",
    "    axs[0].legend(['train', 'val'], loc='best')\n",
    "    # summarize history for loss\n",
    "    axs[1].plot(range(1,len(model_history.history['loss'])+1),model_history.history['loss'])\n",
    "    axs[1].plot(range(1,len(model_history.history['val_loss'])+1),model_history.history['val_loss'])\n",
    "    axs[1].set_title('Model Loss')\n",
    "    axs[1].set_ylabel('Loss')\n",
    "    axs[1].set_xlabel('Epoch')\n",
    "    axs[1].set_xticks(np.arange(1,len(model_history.history['loss'])+1),len(model_history.history['loss'])/10)\n",
    "    axs[1].legend(['train', 'val'], loc='best')\n",
    "    plt.show()"
   ]
  },
  {
   "cell_type": "code",
   "execution_count": 201,
   "metadata": {},
   "outputs": [
    {
     "data": {
      "image/png": "[encoded data removed]",
      "text/plain": [
       "<matplotlib.figure.Figure at 0x1b216cabd0>"
      ]
     },
     "metadata": {},
     "output_type": "display_data"
    }
   ],
   "source": [
    "plot_model_history(my_first_rnn_fitted)"
   ]
  },
  {
   "cell_type": "code",
   "execution_count": 202,
   "metadata": {},
   "outputs": [],
   "source": [
    "def plot_model_history2(my_first_nn_fitted):\n",
    "    fig, (ax1, ax2) = plt.subplots(2, 1)\n",
    "    ax1.plot(range(len(my_first_nn_fitted.history['loss'])), my_first_nn_fitted.history['loss'],linestyle='-', color='blue',label='Training', lw=2)\n",
    "    ax1.plot(range(len(np.array(test_over_time)[:,0])), np.array(test_over_time)[:,0], linestyle='-', color='green',label='Test', lw=2)\n",
    "    ax2.plot(range(len(my_first_nn_fitted.history['acc'])), my_first_nn_fitted.history['acc'],linestyle='-', color='blue',label='Training', lw=2)\n",
    "    ax2.plot(range(len(np.array(test_over_time)[:,1])), np.array(test_over_time)[:,1], linestyle='-', color='green',label='Test', lw=2)\n",
    "    leg = ax1.legend(bbox_to_anchor=(0.7, 0.9), loc=2, borderaxespad=0.,fontsize=13)\n",
    "    ax1.set_xticklabels('')\n",
    "    #ax1.set_yscale('log')\n",
    "    ax2.set_xlabel('# Epochs',fontsize=14)\n",
    "    ax1.set_ylabel('Loss',fontsize=14)\n",
    "    ax2.set_ylabel('Accuracy',fontsize=14)\n",
    "    plt.show()"
   ]
  },
  {
   "cell_type": "code",
   "execution_count": 206,
   "metadata": {},
   "outputs": [
    {
     "data": {
      "image/png": "[encoded data removed]",
      "text/plain": [
       "<matplotlib.figure.Figure at 0x1ac7638fd0>"
      ]
     },
     "metadata": {},
     "output_type": "display_data"
    }
   ],
   "source": [
    "plot_model_history(my_first_rnn_fitted)"
   ]
  },
  {
   "cell_type": "code",
   "execution_count": 208,
   "metadata": {},
   "outputs": [
    {
     "data": {
      "image/png": "[encoded data removed]",
      "text/plain": [
       "<matplotlib.figure.Figure at 0x1b32948e10>"
      ]
     },
     "metadata": {},
     "output_type": "display_data"
    }
   ],
   "source": [
    "plot_model_history(my_first_rnn_fitted)"
   ]
  },
  {
   "cell_type": "code",
   "execution_count": null,
   "metadata": {},
   "outputs": [],
   "source": []
  }
 ],
 "metadata": {
  "kernelspec": {
   "display_name": "Python 2",
   "language": "python",
   "name": "python2"
  },
  "language_info": {
   "codemirror_mode": {
    "name": "ipython",
    "version": 2
   },
   "file_extension": ".py",
   "mimetype": "text/x-python",
   "name": "python",
   "nbconvert_exporter": "python",
   "pygments_lexer": "ipython2",
   "version": "2.7.14"
  }
 },
 "nbformat": 4,
 "nbformat_minor": 2
}
